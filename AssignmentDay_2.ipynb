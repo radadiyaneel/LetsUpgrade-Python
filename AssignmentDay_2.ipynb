{
  "nbformat": 4,
  "nbformat_minor": 0,
  "metadata": {
    "colab": {
      "name": "AssignmentDay-2.ipynb",
      "provenance": [],
      "authorship_tag": "ABX9TyP52M4yTS77TN1b92ZkGRp0",
      "include_colab_link": true
    },
    "kernelspec": {
      "name": "python3",
      "display_name": "Python 3"
    }
  },
  "cells": [
    {
      "cell_type": "markdown",
      "metadata": {
        "id": "view-in-github",
        "colab_type": "text"
      },
      "source": [
        "<a href=\"https://colab.research.google.com/github/prachi397/LetsUpgrade-Python-Essential/blob/master/AssignmentDay_2.ipynb\" target=\"_parent\"><img src=\"https://colab.research.google.com/assets/colab-badge.svg\" alt=\"Open In Colab\"/></a>"
      ]
    },
    {
      "cell_type": "markdown",
      "metadata": {
        "id": "GtjJ-i50N1SG",
        "colab_type": "text"
      },
      "source": [
        "**Question-1**"
      ]
    },
    {
      "cell_type": "code",
      "metadata": {
        "id": "v5L7hH-yONen",
        "colab_type": "code",
        "colab": {
          "base_uri": "https://localhost:8080/",
          "height": 51
        },
        "outputId": "c998e0ef-3e70-4cb1-cc33-010588b74a50"
      },
      "source": [
        "#lists and its default functions\n",
        "list=[\"Prachi\",\"Sam\",1,2,1,3,1,27.6,2020]\n",
        "print(list)\n",
        "print(type(list))"
      ],
      "execution_count": 1,
      "outputs": [
        {
          "output_type": "stream",
          "text": [
            "['Prachi', 'Sam', 1, 2, 1, 3, 1, 27.6, 2020]\n",
            "<class 'list'>\n"
          ],
          "name": "stdout"
        }
      ]
    },
    {
      "cell_type": "code",
      "metadata": {
        "id": "VzSvs_6jO-No",
        "colab_type": "code",
        "colab": {
          "base_uri": "https://localhost:8080/",
          "height": 34
        },
        "outputId": "791c154d-f199-45b3-9169-46c81f5824f8"
      },
      "source": [
        "#methods of list\n",
        "print(len(list))"
      ],
      "execution_count": 2,
      "outputs": [
        {
          "output_type": "stream",
          "text": [
            "9\n"
          ],
          "name": "stdout"
        }
      ]
    },
    {
      "cell_type": "code",
      "metadata": {
        "id": "0yfTHlV4PHFs",
        "colab_type": "code",
        "colab": {
          "base_uri": "https://localhost:8080/",
          "height": 34
        },
        "outputId": "742f56ac-65e0-4d89-b58c-228940d16d07"
      },
      "source": [
        "list.append(\"panwar\")\n",
        "print(list)"
      ],
      "execution_count": 3,
      "outputs": [
        {
          "output_type": "stream",
          "text": [
            "['Prachi', 'Sam', 1, 2, 1, 3, 1, 27.6, 2020, 'panwar']\n"
          ],
          "name": "stdout"
        }
      ]
    },
    {
      "cell_type": "code",
      "metadata": {
        "id": "J44-ur1_PQIm",
        "colab_type": "code",
        "colab": {
          "base_uri": "https://localhost:8080/",
          "height": 34
        },
        "outputId": "229587f2-2b56-489f-c705-d045dac56bf1"
      },
      "source": [
        "list.insert(2,\"apple\")\n",
        "print(list)"
      ],
      "execution_count": 4,
      "outputs": [
        {
          "output_type": "stream",
          "text": [
            "['Prachi', 'Sam', 'apple', 1, 2, 1, 3, 1, 27.6, 2020, 'panwar']\n"
          ],
          "name": "stdout"
        }
      ]
    },
    {
      "cell_type": "code",
      "metadata": {
        "id": "DWQuXLmRPbkX",
        "colab_type": "code",
        "colab": {
          "base_uri": "https://localhost:8080/",
          "height": 34
        },
        "outputId": "e08aa39b-92db-4303-d48a-57baa2c159bb"
      },
      "source": [
        "print(list.count(1))"
      ],
      "execution_count": 5,
      "outputs": [
        {
          "output_type": "stream",
          "text": [
            "3\n"
          ],
          "name": "stdout"
        }
      ]
    },
    {
      "cell_type": "code",
      "metadata": {
        "id": "UJ2k9gKxPjB0",
        "colab_type": "code",
        "colab": {
          "base_uri": "https://localhost:8080/",
          "height": 34
        },
        "outputId": "7c258573-fb46-417c-a7b0-5d0b50a59991"
      },
      "source": [
        "list.reverse()\n",
        "print(list)"
      ],
      "execution_count": 6,
      "outputs": [
        {
          "output_type": "stream",
          "text": [
            "['panwar', 2020, 27.6, 1, 3, 1, 2, 1, 'apple', 'Sam', 'Prachi']\n"
          ],
          "name": "stdout"
        }
      ]
    },
    {
      "cell_type": "markdown",
      "metadata": {
        "id": "AzoiEqXlP5py",
        "colab_type": "text"
      },
      "source": [
        "**Question-2**"
      ]
    },
    {
      "cell_type": "code",
      "metadata": {
        "id": "_t9ESmg0QFEn",
        "colab_type": "code",
        "colab": {
          "base_uri": "https://localhost:8080/",
          "height": 51
        },
        "outputId": "1217c2b9-c3be-4bd6-a95c-baff60201d91"
      },
      "source": [
        "#dictionary and its default functions\n",
        "dit={\"fruit\":\"apple\",\"vegatable\":\"potato\",'a':\"pen\",\"name\":\"prachi\",\"age\":18}\n",
        "print(dit)\n",
        "print(type(dit))"
      ],
      "execution_count": 7,
      "outputs": [
        {
          "output_type": "stream",
          "text": [
            "{'fruit': 'apple', 'vegatable': 'potato', 'a': 'pen', 'name': 'prachi', 'age': 18}\n",
            "<class 'dict'>\n"
          ],
          "name": "stdout"
        }
      ]
    },
    {
      "cell_type": "code",
      "metadata": {
        "id": "fd7jFwWCRLY0",
        "colab_type": "code",
        "colab": {
          "base_uri": "https://localhost:8080/",
          "height": 34
        },
        "outputId": "a68f5b86-dbe6-4390-b6f2-e05675295f59"
      },
      "source": [
        "#default methods of dictionary\n",
        "print(dit.keys())"
      ],
      "execution_count": 8,
      "outputs": [
        {
          "output_type": "stream",
          "text": [
            "dict_keys(['fruit', 'vegatable', 'a', 'name', 'age'])\n"
          ],
          "name": "stdout"
        }
      ]
    },
    {
      "cell_type": "code",
      "metadata": {
        "id": "6jyeSYDDRXOX",
        "colab_type": "code",
        "colab": {
          "base_uri": "https://localhost:8080/",
          "height": 34
        },
        "outputId": "17c01e08-4180-46a6-d0c8-c62428a38543"
      },
      "source": [
        "print(dit.values())"
      ],
      "execution_count": 9,
      "outputs": [
        {
          "output_type": "stream",
          "text": [
            "dict_values(['apple', 'potato', 'pen', 'prachi', 18])\n"
          ],
          "name": "stdout"
        }
      ]
    },
    {
      "cell_type": "code",
      "metadata": {
        "id": "8cDlvYpvRfWc",
        "colab_type": "code",
        "colab": {
          "base_uri": "https://localhost:8080/",
          "height": 34
        },
        "outputId": "076e4b57-471a-48a9-99f0-f8ef0e31f7db"
      },
      "source": [
        "print(len(dit))"
      ],
      "execution_count": 10,
      "outputs": [
        {
          "output_type": "stream",
          "text": [
            "5\n"
          ],
          "name": "stdout"
        }
      ]
    },
    {
      "cell_type": "code",
      "metadata": {
        "id": "fiQwkusnRlGX",
        "colab_type": "code",
        "colab": {
          "base_uri": "https://localhost:8080/",
          "height": 34
        },
        "outputId": "6381a0a5-532f-482c-85d7-5cc5853794b8"
      },
      "source": [
        "print(dit.copy())"
      ],
      "execution_count": 11,
      "outputs": [
        {
          "output_type": "stream",
          "text": [
            "{'fruit': 'apple', 'vegatable': 'potato', 'a': 'pen', 'name': 'prachi', 'age': 18}\n"
          ],
          "name": "stdout"
        }
      ]
    },
    {
      "cell_type": "code",
      "metadata": {
        "id": "CJhD8SFORpwf",
        "colab_type": "code",
        "colab": {
          "base_uri": "https://localhost:8080/",
          "height": 34
        },
        "outputId": "0a3b1416-f273-4c26-bcdf-824c23e6483b"
      },
      "source": [
        "dit2={1:\"ice-cream\",2:\"chocolate\",3:\"cake\",5:\"toffy\"}\n",
        "dit.update(dit2)\n",
        "print(dit)"
      ],
      "execution_count": 12,
      "outputs": [
        {
          "output_type": "stream",
          "text": [
            "{'fruit': 'apple', 'vegatable': 'potato', 'a': 'pen', 'name': 'prachi', 'age': 18, 1: 'ice-cream', 2: 'chocolate', 3: 'cake', 5: 'toffy'}\n"
          ],
          "name": "stdout"
        }
      ]
    },
    {
      "cell_type": "code",
      "metadata": {
        "id": "cKqWhvkXSKBl",
        "colab_type": "code",
        "colab": {
          "base_uri": "https://localhost:8080/",
          "height": 34
        },
        "outputId": "203c69e0-4cff-410c-c5f6-3b5d4b1bbc5d"
      },
      "source": [
        "dit.clear()\n",
        "print(dit)"
      ],
      "execution_count": 13,
      "outputs": [
        {
          "output_type": "stream",
          "text": [
            "{}\n"
          ],
          "name": "stdout"
        }
      ]
    },
    {
      "cell_type": "markdown",
      "metadata": {
        "id": "qMYuWrU5SRFx",
        "colab_type": "text"
      },
      "source": [
        "**Question-3**"
      ]
    },
    {
      "cell_type": "code",
      "metadata": {
        "id": "uEKgjmT-SXcE",
        "colab_type": "code",
        "colab": {
          "base_uri": "https://localhost:8080/",
          "height": 51
        },
        "outputId": "f042e0c9-6a08-4ae1-c73a-d29e89ed86d7"
      },
      "source": [
        "#sets and its default functions\n",
        "set1={1,2,3,\"hello\",2.5,'a',\"mango\"}\n",
        "print(set1)\n",
        "print(type(set1))"
      ],
      "execution_count": 14,
      "outputs": [
        {
          "output_type": "stream",
          "text": [
            "{1, 2, 3, 2.5, 'mango', 'a', 'hello'}\n",
            "<class 'set'>\n"
          ],
          "name": "stdout"
        }
      ]
    },
    {
      "cell_type": "code",
      "metadata": {
        "id": "ww35LsMQS5G9",
        "colab_type": "code",
        "colab": {
          "base_uri": "https://localhost:8080/",
          "height": 34
        },
        "outputId": "36e57479-a2ce-4cdf-bb30-6badeebcb0a5"
      },
      "source": [
        "#methods of set\n",
        "set1.add(\"music\")\n",
        "print(set1)"
      ],
      "execution_count": 15,
      "outputs": [
        {
          "output_type": "stream",
          "text": [
            "{1, 2, 3, 2.5, 'mango', 'a', 'music', 'hello'}\n"
          ],
          "name": "stdout"
        }
      ]
    },
    {
      "cell_type": "code",
      "metadata": {
        "id": "fVVSduOFTEvj",
        "colab_type": "code",
        "colab": {
          "base_uri": "https://localhost:8080/",
          "height": 34
        },
        "outputId": "239b8e56-1172-42a1-ecf7-e54bbdcf4aad"
      },
      "source": [
        "set2={\"apple\",\"mango\",\"banana\",2.5,1,2,3,4}\n",
        "print(set1.intersection(set2))"
      ],
      "execution_count": 16,
      "outputs": [
        {
          "output_type": "stream",
          "text": [
            "{1, 2.5, 3, 2, 'mango'}\n"
          ],
          "name": "stdout"
        }
      ]
    },
    {
      "cell_type": "code",
      "metadata": {
        "id": "eZfoooOZTTRJ",
        "colab_type": "code",
        "colab": {
          "base_uri": "https://localhost:8080/",
          "height": 34
        },
        "outputId": "f2bce691-2787-464f-a88d-7da102fb1939"
      },
      "source": [
        "print(set1.union(set2))"
      ],
      "execution_count": 17,
      "outputs": [
        {
          "output_type": "stream",
          "text": [
            "{1, 2, 3, 2.5, 'banana', 4, 'mango', 'a', 'music', 'hello', 'apple'}\n"
          ],
          "name": "stdout"
        }
      ]
    },
    {
      "cell_type": "code",
      "metadata": {
        "id": "_Jys1_-tTZ8_",
        "colab_type": "code",
        "colab": {
          "base_uri": "https://localhost:8080/",
          "height": 34
        },
        "outputId": "dd1157fe-32ed-4b46-cab2-363f08cd5a97"
      },
      "source": [
        "print(set1.isdisjoint(set2))"
      ],
      "execution_count": 18,
      "outputs": [
        {
          "output_type": "stream",
          "text": [
            "False\n"
          ],
          "name": "stdout"
        }
      ]
    },
    {
      "cell_type": "code",
      "metadata": {
        "id": "e84edzpLTh5c",
        "colab_type": "code",
        "colab": {
          "base_uri": "https://localhost:8080/",
          "height": 34
        },
        "outputId": "613f78d6-7e30-4864-fdf9-568a5158ae3b"
      },
      "source": [
        "set1.pop()\n",
        "print(set1)"
      ],
      "execution_count": 20,
      "outputs": [
        {
          "output_type": "stream",
          "text": [
            "{3, 2.5, 'mango', 'a', 'music', 'hello'}\n"
          ],
          "name": "stdout"
        }
      ]
    },
    {
      "cell_type": "code",
      "metadata": {
        "id": "wiVV8_SXTpda",
        "colab_type": "code",
        "colab": {
          "base_uri": "https://localhost:8080/",
          "height": 34
        },
        "outputId": "26925a1a-c017-4805-d0b7-b730932b5ed1"
      },
      "source": [
        "set2.discard(2)\n",
        "print(set2)"
      ],
      "execution_count": 21,
      "outputs": [
        {
          "output_type": "stream",
          "text": [
            "{1, 2.5, 'banana', 3, 4, 'mango', 'apple'}\n"
          ],
          "name": "stdout"
        }
      ]
    },
    {
      "cell_type": "markdown",
      "metadata": {
        "id": "tMkiHeKPTzBj",
        "colab_type": "text"
      },
      "source": [
        "**Question-4**"
      ]
    },
    {
      "cell_type": "code",
      "metadata": {
        "id": "mk24P9wzT4kC",
        "colab_type": "code",
        "colab": {
          "base_uri": "https://localhost:8080/",
          "height": 51
        },
        "outputId": "a8f2e11b-93ba-471d-9539-1157db90abc9"
      },
      "source": [
        "#tuple and its default functions\n",
        "tup=(\"apple\",[\"chocolate\",\"cake\",\"pizza\"],\"banana\",(1,2,3))\n",
        "print(tup)\n",
        "print(type(tup))"
      ],
      "execution_count": 22,
      "outputs": [
        {
          "output_type": "stream",
          "text": [
            "('apple', ['chocolate', 'cake', 'pizza'], 'banana', (1, 2, 3))\n",
            "<class 'tuple'>\n"
          ],
          "name": "stdout"
        }
      ]
    },
    {
      "cell_type": "code",
      "metadata": {
        "id": "1_PJnkfEUjqe",
        "colab_type": "code",
        "colab": {
          "base_uri": "https://localhost:8080/",
          "height": 136
        },
        "outputId": "66a15b0d-156d-4102-a2dc-4b5b44e30c7b"
      },
      "source": [
        "#default functions of tuple\n",
        "print(len(tup))\n",
        "print(tup.count(\"apple\"))\n",
        "print(tup.index(\"banana\"))\n",
        "print(tup[1])\n",
        "tup2=(1,25,74,93,32,4)\n",
        "print(min(tup2))\n",
        "print(max(tup2))\n",
        "print(tup2[-1])"
      ],
      "execution_count": 23,
      "outputs": [
        {
          "output_type": "stream",
          "text": [
            "4\n",
            "1\n",
            "2\n",
            "['chocolate', 'cake', 'pizza']\n",
            "1\n",
            "93\n",
            "4\n"
          ],
          "name": "stdout"
        }
      ]
    },
    {
      "cell_type": "markdown",
      "metadata": {
        "id": "BTUT3zc8VYCn",
        "colab_type": "text"
      },
      "source": [
        "**Question-5**"
      ]
    },
    {
      "cell_type": "code",
      "metadata": {
        "id": "suREjH4DVebd",
        "colab_type": "code",
        "colab": {
          "base_uri": "https://localhost:8080/",
          "height": 51
        },
        "outputId": "7fdee8aa-f21f-4f12-adb9-a75288709f50"
      },
      "source": [
        "#string and its default functions\n",
        "str=\"PrachiPanwar\"\n",
        "print(str)\n",
        "print(type(str))"
      ],
      "execution_count": 24,
      "outputs": [
        {
          "output_type": "stream",
          "text": [
            "PrachiPanwar\n",
            "<class 'str'>\n"
          ],
          "name": "stdout"
        }
      ]
    },
    {
      "cell_type": "code",
      "metadata": {
        "id": "Qt71N4r8Vvh1",
        "colab_type": "code",
        "colab": {
          "base_uri": "https://localhost:8080/",
          "height": 119
        },
        "outputId": "9f47ed4c-5fc8-4649-bec6-f2bc596b7c41"
      },
      "source": [
        "#methods of string\n",
        "print(len(str))\n",
        "print(str.upper())\n",
        "print(str.lower())\n",
        "print(str.find('i'))\n",
        "print(str.count('a'))\n",
        "print(str[::-1])"
      ],
      "execution_count": 26,
      "outputs": [
        {
          "output_type": "stream",
          "text": [
            "12\n",
            "PRACHIPANWAR\n",
            "prachipanwar\n",
            "5\n",
            "3\n",
            "rawnaPihcarP\n"
          ],
          "name": "stdout"
        }
      ]
    }
  ]
}