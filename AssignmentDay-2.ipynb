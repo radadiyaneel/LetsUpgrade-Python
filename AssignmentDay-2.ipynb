{
  "nbformat": 4,
  "nbformat_minor": 0,
  "metadata": {
    "colab": {
      "name": "Untitled0.ipynb",
      "provenance": [],
      "authorship_tag": "ABX9TyN5CUJqbgux5gmxlawR793D"
    },
    "kernelspec": {
      "name": "python3",
      "display_name": "Python 3"
    }
  },
  "cells": [
    {
      "cell_type": "code",
      "metadata": {
        "id": "ORFr324n8W1n"
      },
      "source": [
        ""
      ],
      "execution_count": null,
      "outputs": []
    },
    {
      "cell_type": "markdown",
      "metadata": {
        "id": "GtjJ-i50N1SG"
      },
      "source": [
        ""
      ]
    },
    {
      "cell_type": "code",
      "metadata": {
        "id": "v5L7hH-yONen",
        "colab": {
          "base_uri": "https://localhost:8080/"
        },
        "outputId": "7152f2f2-e07e-4b68-8a00-46bd22e41294"
      },
      "source": [
        "#lists and its default functions\n",
        "list=[\"Neel\",\"Sam\",1,2,1,3,1,27.6,2020]\n",
        "print(list)\n",
        "print(type(list))"
      ],
      "execution_count": 1,
      "outputs": [
        {
          "output_type": "stream",
          "text": [
            "['Neel', 'Sam', 1, 2, 1, 3, 1, 27.6, 2020]\n",
            "<class 'list'>\n"
          ],
          "name": "stdout"
        }
      ]
    },
    {
      "cell_type": "code",
      "metadata": {
        "id": "VzSvs_6jO-No",
        "colab": {
          "base_uri": "https://localhost:8080/"
        },
        "outputId": "629e6df0-ec69-420a-ebc2-29b20d7ea0cc"
      },
      "source": [
        "#methods of list\n",
        "print(len(list))"
      ],
      "execution_count": 2,
      "outputs": [
        {
          "output_type": "stream",
          "text": [
            "9\n"
          ],
          "name": "stdout"
        }
      ]
    },
    {
      "cell_type": "code",
      "metadata": {
        "id": "0yfTHlV4PHFs",
        "colab": {
          "base_uri": "https://localhost:8080/"
        },
        "outputId": "c423da23-f992-423b-e659-ba043aec27a8"
      },
      "source": [
        "list.append(\"Radadiya\")\n",
        "print(list)"
      ],
      "execution_count": 3,
      "outputs": [
        {
          "output_type": "stream",
          "text": [
            "['Neel', 'Sam', 1, 2, 1, 3, 1, 27.6, 2020, 'Radadiya']\n"
          ],
          "name": "stdout"
        }
      ]
    },
    {
      "cell_type": "code",
      "metadata": {
        "id": "J44-ur1_PQIm",
        "colab": {
          "base_uri": "https://localhost:8080/"
        },
        "outputId": "bdcc2222-01ab-4b34-dcd2-ccc272978cb5"
      },
      "source": [
        "list.insert(2,\"apple\")\n",
        "print(list)"
      ],
      "execution_count": 4,
      "outputs": [
        {
          "output_type": "stream",
          "text": [
            "['Neel', 'Sam', 'apple', 1, 2, 1, 3, 1, 27.6, 2020, 'Radadiya']\n"
          ],
          "name": "stdout"
        }
      ]
    },
    {
      "cell_type": "code",
      "metadata": {
        "id": "DWQuXLmRPbkX",
        "colab": {
          "base_uri": "https://localhost:8080/"
        },
        "outputId": "b42ed13e-6298-457e-a48a-2d856c969c7a"
      },
      "source": [
        "print(list.count(1))"
      ],
      "execution_count": 5,
      "outputs": [
        {
          "output_type": "stream",
          "text": [
            "3\n"
          ],
          "name": "stdout"
        }
      ]
    },
    {
      "cell_type": "code",
      "metadata": {
        "id": "UJ2k9gKxPjB0",
        "colab": {
          "base_uri": "https://localhost:8080/"
        },
        "outputId": "b47500d3-e988-41bd-b6e8-14c949b6ac4b"
      },
      "source": [
        "list.reverse()\n",
        "print(list)"
      ],
      "execution_count": 6,
      "outputs": [
        {
          "output_type": "stream",
          "text": [
            "['Radadiya', 2020, 27.6, 1, 3, 1, 2, 1, 'apple', 'Sam', 'Neel']\n"
          ],
          "name": "stdout"
        }
      ]
    },
    {
      "cell_type": "markdown",
      "metadata": {
        "id": "AzoiEqXlP5py"
      },
      "source": [
        ""
      ]
    },
    {
      "cell_type": "code",
      "metadata": {
        "id": "_t9ESmg0QFEn",
        "colab": {
          "base_uri": "https://localhost:8080/"
        },
        "outputId": "8ade0d8f-34fe-4e11-ac5b-240c47353a0d"
      },
      "source": [
        "#dictionary and its default functions\n",
        "dit={\"fruit\":\"apple\",\"vegatable\":\"potato\",'a':\"pen\",\"name\":\"prachi\",\"age\":18}\n",
        "print(dit)\n",
        "print(type(dit))"
      ],
      "execution_count": 7,
      "outputs": [
        {
          "output_type": "stream",
          "text": [
            "{'fruit': 'apple', 'vegatable': 'potato', 'a': 'pen', 'name': 'prachi', 'age': 18}\n",
            "<class 'dict'>\n"
          ],
          "name": "stdout"
        }
      ]
    },
    {
      "cell_type": "code",
      "metadata": {
        "id": "fd7jFwWCRLY0",
        "colab": {
          "base_uri": "https://localhost:8080/"
        },
        "outputId": "d8944ffa-4e7d-4f7d-8d01-f2a08eaed7b6"
      },
      "source": [
        "#default methods of dictionary\n",
        "print(dit.keys())"
      ],
      "execution_count": 8,
      "outputs": [
        {
          "output_type": "stream",
          "text": [
            "dict_keys(['fruit', 'vegatable', 'a', 'name', 'age'])\n"
          ],
          "name": "stdout"
        }
      ]
    },
    {
      "cell_type": "code",
      "metadata": {
        "id": "6jyeSYDDRXOX",
        "colab": {
          "base_uri": "https://localhost:8080/"
        },
        "outputId": "0bc0d811-a368-4b8e-998c-9eb6466a453b"
      },
      "source": [
        "print(dit.values())"
      ],
      "execution_count": 9,
      "outputs": [
        {
          "output_type": "stream",
          "text": [
            "dict_values(['apple', 'potato', 'pen', 'prachi', 18])\n"
          ],
          "name": "stdout"
        }
      ]
    },
    {
      "cell_type": "code",
      "metadata": {
        "id": "8cDlvYpvRfWc",
        "colab": {
          "base_uri": "https://localhost:8080/"
        },
        "outputId": "146aa0c0-c466-4271-f383-3ffb7efe96c2"
      },
      "source": [
        "print(len(dit))"
      ],
      "execution_count": 10,
      "outputs": [
        {
          "output_type": "stream",
          "text": [
            "5\n"
          ],
          "name": "stdout"
        }
      ]
    },
    {
      "cell_type": "code",
      "metadata": {
        "id": "fiQwkusnRlGX",
        "colab": {
          "base_uri": "https://localhost:8080/"
        },
        "outputId": "009e5573-128f-4337-e4d8-62eb4ec6be99"
      },
      "source": [
        "print(dit.copy())"
      ],
      "execution_count": 11,
      "outputs": [
        {
          "output_type": "stream",
          "text": [
            "{'fruit': 'apple', 'vegatable': 'potato', 'a': 'pen', 'name': 'prachi', 'age': 18}\n"
          ],
          "name": "stdout"
        }
      ]
    },
    {
      "cell_type": "code",
      "metadata": {
        "id": "CJhD8SFORpwf",
        "colab": {
          "base_uri": "https://localhost:8080/"
        },
        "outputId": "fe025ff1-58f6-4ae7-9625-2107a1bb8f74"
      },
      "source": [
        "dit2={1:\"ice-cream\",2:\"chocolate\",3:\"cake\",5:\"toffy\"}\n",
        "dit.update(dit2)\n",
        "print(dit)"
      ],
      "execution_count": 12,
      "outputs": [
        {
          "output_type": "stream",
          "text": [
            "{'fruit': 'apple', 'vegatable': 'potato', 'a': 'pen', 'name': 'prachi', 'age': 18, 1: 'ice-cream', 2: 'chocolate', 3: 'cake', 5: 'toffy'}\n"
          ],
          "name": "stdout"
        }
      ]
    },
    {
      "cell_type": "code",
      "metadata": {
        "id": "cKqWhvkXSKBl",
        "colab": {
          "base_uri": "https://localhost:8080/"
        },
        "outputId": "3f3f5b02-701b-4ec1-9be3-69ada645f818"
      },
      "source": [
        "dit.clear()\n",
        "print(dit)"
      ],
      "execution_count": 13,
      "outputs": [
        {
          "output_type": "stream",
          "text": [
            "{}\n"
          ],
          "name": "stdout"
        }
      ]
    },
    {
      "cell_type": "markdown",
      "metadata": {
        "id": "qMYuWrU5SRFx"
      },
      "source": [
        ""
      ]
    },
    {
      "cell_type": "code",
      "metadata": {
        "id": "uEKgjmT-SXcE",
        "colab": {
          "base_uri": "https://localhost:8080/"
        },
        "outputId": "0da41162-e718-49b7-866f-91ef3e32fdbe"
      },
      "source": [
        "#sets and its default functions\n",
        "set1={1,2,3,\"hello\",2.5,'a',\"mango\"}\n",
        "print(set1)\n",
        "print(type(set1))"
      ],
      "execution_count": 14,
      "outputs": [
        {
          "output_type": "stream",
          "text": [
            "{1, 2.5, 2, 3, 'a', 'mango', 'hello'}\n",
            "<class 'set'>\n"
          ],
          "name": "stdout"
        }
      ]
    },
    {
      "cell_type": "code",
      "metadata": {
        "id": "ww35LsMQS5G9",
        "colab": {
          "base_uri": "https://localhost:8080/"
        },
        "outputId": "6a7767ff-52f6-40f8-d947-43d79374efa2"
      },
      "source": [
        "#methods of set\n",
        "set1.add(\"music\")\n",
        "print(set1)"
      ],
      "execution_count": 15,
      "outputs": [
        {
          "output_type": "stream",
          "text": [
            "{1, 2.5, 2, 3, 'music', 'a', 'mango', 'hello'}\n"
          ],
          "name": "stdout"
        }
      ]
    },
    {
      "cell_type": "code",
      "metadata": {
        "id": "fVVSduOFTEvj",
        "colab": {
          "base_uri": "https://localhost:8080/"
        },
        "outputId": "cc3fd2da-8ea7-41b5-a0b3-0a8ebefa1d21"
      },
      "source": [
        "set2={\"apple\",\"mango\",\"banana\",2.5,1,2,3,4}\n",
        "print(set1.intersection(set2))"
      ],
      "execution_count": 16,
      "outputs": [
        {
          "output_type": "stream",
          "text": [
            "{1, 2.5, 3, 2, 'mango'}\n"
          ],
          "name": "stdout"
        }
      ]
    },
    {
      "cell_type": "code",
      "metadata": {
        "id": "eZfoooOZTTRJ",
        "colab": {
          "base_uri": "https://localhost:8080/"
        },
        "outputId": "3f5da228-3a63-4a53-dd8d-142d50f2fa79"
      },
      "source": [
        "print(set1.union(set2))"
      ],
      "execution_count": 17,
      "outputs": [
        {
          "output_type": "stream",
          "text": [
            "{1, 2.5, 2, 3, 'banana', 4, 'music', 'a', 'mango', 'apple', 'hello'}\n"
          ],
          "name": "stdout"
        }
      ]
    },
    {
      "cell_type": "code",
      "metadata": {
        "id": "_Jys1_-tTZ8_",
        "colab": {
          "base_uri": "https://localhost:8080/"
        },
        "outputId": "16bdab56-5fe9-4025-f9af-09623383e1af"
      },
      "source": [
        "print(set1.isdisjoint(set2))"
      ],
      "execution_count": 18,
      "outputs": [
        {
          "output_type": "stream",
          "text": [
            "False\n"
          ],
          "name": "stdout"
        }
      ]
    },
    {
      "cell_type": "code",
      "metadata": {
        "id": "e84edzpLTh5c",
        "colab": {
          "base_uri": "https://localhost:8080/"
        },
        "outputId": "b9d919eb-bf08-4059-bef2-aaebfa414bf2"
      },
      "source": [
        "set1.pop()\n",
        "print(set1)"
      ],
      "execution_count": 19,
      "outputs": [
        {
          "output_type": "stream",
          "text": [
            "{2.5, 2, 3, 'music', 'a', 'mango', 'hello'}\n"
          ],
          "name": "stdout"
        }
      ]
    },
    {
      "cell_type": "code",
      "metadata": {
        "id": "wiVV8_SXTpda",
        "colab": {
          "base_uri": "https://localhost:8080/"
        },
        "outputId": "f7b9a7f2-7c89-4d2a-ef9a-83196c36c403"
      },
      "source": [
        "set2.discard(2)\n",
        "print(set2)"
      ],
      "execution_count": 20,
      "outputs": [
        {
          "output_type": "stream",
          "text": [
            "{1, 2.5, 3, 'banana', 4, 'mango', 'apple'}\n"
          ],
          "name": "stdout"
        }
      ]
    },
    {
      "cell_type": "markdown",
      "metadata": {
        "id": "tMkiHeKPTzBj"
      },
      "source": [
        ""
      ]
    },
    {
      "cell_type": "code",
      "metadata": {
        "id": "mk24P9wzT4kC",
        "colab": {
          "base_uri": "https://localhost:8080/"
        },
        "outputId": "604aa091-132a-4953-94f7-8b07717e5a3c"
      },
      "source": [
        "#tuple and its default functions\n",
        "tup=(\"apple\",[\"chocolate\",\"cake\",\"pizza\"],\"banana\",(1,2,3))\n",
        "print(tup)\n",
        "print(type(tup))"
      ],
      "execution_count": 21,
      "outputs": [
        {
          "output_type": "stream",
          "text": [
            "('apple', ['chocolate', 'cake', 'pizza'], 'banana', (1, 2, 3))\n",
            "<class 'tuple'>\n"
          ],
          "name": "stdout"
        }
      ]
    },
    {
      "cell_type": "code",
      "metadata": {
        "id": "1_PJnkfEUjqe",
        "colab": {
          "base_uri": "https://localhost:8080/"
        },
        "outputId": "f6b2f29e-9262-4f35-80d6-78772f2b46a1"
      },
      "source": [
        "#default functions of tuple\n",
        "print(len(tup))\n",
        "print(tup.count(\"apple\"))\n",
        "print(tup.index(\"banana\"))\n",
        "print(tup[1])\n",
        "tup2=(1,25,74,93,32,4)\n",
        "print(min(tup2))\n",
        "print(max(tup2))\n",
        "print(tup2[-1])"
      ],
      "execution_count": 22,
      "outputs": [
        {
          "output_type": "stream",
          "text": [
            "4\n",
            "1\n",
            "2\n",
            "['chocolate', 'cake', 'pizza']\n",
            "1\n",
            "93\n",
            "4\n"
          ],
          "name": "stdout"
        }
      ]
    },
    {
      "cell_type": "markdown",
      "metadata": {
        "id": "BTUT3zc8VYCn"
      },
      "source": [
        ""
      ]
    },
    {
      "cell_type": "code",
      "metadata": {
        "id": "suREjH4DVebd",
        "colab": {
          "base_uri": "https://localhost:8080/"
        },
        "outputId": "b096329a-c5ed-4536-9dd8-c2563955c526"
      },
      "source": [
        "#string and its default functions\n",
        "str=\"NeelRadadiya\"\n",
        "print(str)\n",
        "print(type(str))"
      ],
      "execution_count": 23,
      "outputs": [
        {
          "output_type": "stream",
          "text": [
            "NeelRadadiya\n",
            "<class 'str'>\n"
          ],
          "name": "stdout"
        }
      ]
    },
    {
      "cell_type": "code",
      "metadata": {
        "id": "Qt71N4r8Vvh1",
        "colab": {
          "base_uri": "https://localhost:8080/"
        },
        "outputId": "4d6db3f7-0583-45e6-9cf6-4c614880a4da"
      },
      "source": [
        "#methods of string\n",
        "print(len(str))\n",
        "print(str.upper())\n",
        "print(str.lower())\n",
        "print(str.find('i'))\n",
        "print(str.count('a'))\n",
        "print(str[::-1])"
      ],
      "execution_count": 24,
      "outputs": [
        {
          "output_type": "stream",
          "text": [
            "12\n",
            "NEELRADADIYA\n",
            "neelradadiya\n",
            "9\n",
            "3\n",
            "ayidadaRleeN\n"
          ],
          "name": "stdout"
        }
      ]
    }
  ]
}